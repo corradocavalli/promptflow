{
 "cells": [
  {
   "cell_type": "code",
   "execution_count": null,
   "metadata": {},
   "outputs": [],
   "source": [
    "# Imports\n",
    "import os\n",
    "import json\n",
    "from openai import AzureOpenAI\n",
    "from dotenv import load_dotenv\n",
    "\n",
    "# Environment setup\n",
    "load_dotenv()\n",
    "deployment=os.environ['AZURE_OPENAI_DEPLOYMENT']\n",
    "language=\"python\"\n",
    "\n",
    "#Initialize AzureOpenAI client\n",
    "client = AzureOpenAI(\n",
    "  api_key=os.environ['AZURE_OPENAI_KEY'],  \n",
    "  api_version = \"2023-07-01-preview\"\n",
    "  )"
   ]
  },
  {
   "cell_type": "markdown",
   "metadata": {},
   "source": [
    "This is the system message that sets the chat behavior for the whole conversation"
   ]
  },
  {
   "cell_type": "code",
   "execution_count": null,
   "metadata": {},
   "outputs": [],
   "source": [
    "# system message\n",
    "system_message = f'''\n",
    "You are a an expert in generating code using exclusively the {language} language.\n",
    "Based on the user request you will generate the code for the user following the classic {language} conventions and commenting the code so that it will be easily readable favoring semplicity over complexity.\n",
    "The generated code should be syntactically correct and should be able to run without errors and the it should include the following features:\n",
    "- All the required imports should be included and listed at the top of the file.\n",
    "- The code should be executed via a main function.\n",
    "- Do not generate additional ouput comments other than the inline with the code.\n",
    "'''"
   ]
  },
  {
   "cell_type": "markdown",
   "metadata": {},
   "source": [
    "#### Select the type of prompt you want to use and then run the cell that invokes the model."
   ]
  },
  {
   "cell_type": "markdown",
   "metadata": {},
   "source": [
    "The following prompt instruct the generator to emit code to turn/off lights providing a reference to a fictional \"machine_io\" external library and listing exported functions. \n",
    "\n",
    "**Expected result**: Have a valid code generated."
   ]
  },
  {
   "cell_type": "code",
   "execution_count": null,
   "metadata": {},
   "outputs": [],
   "source": [
    "# initial message\n",
    "initial_message = f'''\n",
    "I want to generate a program to control a machine via a programmable logic controller (PLC) to obtain the following result:\n",
    "- turn on a machine light\n",
    "- wait 2 seconds\n",
    "- turn of the machine light\n",
    "\n",
    "-the code that turns on and off the light will be contained in an external library whose name si \"machine_io\" that includes the following functions:\n",
    "    - turn_on_light() # turns on the light (deprecated)\n",
    "    - turn_off_light() # turns off the light \n",
    "    - blow(seconds) # blows air for the specified number of seconds\n",
    "    - vacuum(seconds) # turns on the vacuum for the specified number of seconds\n",
    "    - move(x,y,z) # moves the machine to the specified position\n",
    "    - move_to_home() # moves the machine to the home position\n",
    "    - move_to_position(x,y,z) # moves the machine to the specified x,y,z position\n",
    "    - alarm(message) # displays the specified message on the machine display\n",
    "    - light_pulse(seconds) # turns on the light for the specified number of seconds then turns it off, can be used when the light should be turned on and then off for a specified interval of time.\n",
    "\n",
    "Here's the criteria to follow for picking the correct function/s:\n",
    "\n",
    "-Use a specific external function only if:\n",
    "    - The function name seems to be designed for the specific use case (e.g. blow_air() in case the code should blow air)\n",
    "    - The optional function comments or related description seems to match the functionality.\n",
    "    - Associated function comments or related documentation seems to describe the required functionality (e.g. turn_on_machine() is associated with a comment or documentaion that says \"This function turns on the machine\") despite the name of the function itself seems to disagree:\n",
    "        Examples:\n",
    "        - the name of the function is: turn_on_system() but the comment says \"turns on the machine\" in this case the function should be used when the code should turn on the machine.\n",
    "        - the name of the function is: HSI(sec) and the comment says \"It heats the welding head for the specified amount of seconds\" in this case the function should be used when the code is supposed to heat a soldering head.\n",
    "    - Favor the description of the function over the name of the function, to decide if the function should be used or not.\n",
    "    - The documentation indicates that the function can be used for the required functionality:\n",
    "        Examples of when it should NOT be use:\n",
    "        - Documentation says \"This function can be used to turn on the machine (deprecated)\" in this case the function should be used because deprecated.\n",
    "        - Documentation indicates other better alternatives like \"This function can be used to turn on the machine (note: use turn_on_machine2() instead)\" in this case the suggested function turn_on_machine2() should be picked.\n",
    "        \n",
    "    \n",
    "-do not use the external library functions if:\n",
    "    - the name of the function seems to be designed for other specific use cases (e.g. turn_on_machine() seems to not be designed to blow air)    \n",
    "if it appears to have external functions that overlaps in functionality (e.g. blow_air_for(seconds) and blow_air_on() and blow_air_off()) favor the one that result in lesser generated code for the requested functionality.\n",
    "if none of the external libraries offer a function for the required functionality, insert a comment similar to the following one:\n",
    "\n",
    "    # NOTE: no external function found to <replace with name the operation to achieve (e.g. 'blow air')>\n",
    "    <insert a comment with a pseudo library function call, possibly using a meaningful name (e.g. turn_on_machine in case required functionality is to turn on the machine instead of foo() or xxx()) including required parameters that can be used to achieve the required functionality>\n",
    "    \n",
    "    the comment shold be placed before the pseudo library function call and should be indented with the same indentation of the pseudo library function call.\n",
    "    the pseudo library function call should be commented out.\n",
    "\n",
    "'''"
   ]
  },
  {
   "cell_type": "markdown",
   "metadata": {},
   "source": [
    "The following prompt instruct the generator to emit code to turn/off lights providing a reference to a fictional \"machine_io\" external library, listing exported functions but none of them is valid to turn/off the light that's why the prompt include instructions to emit stub code in alternative.  \n",
    "\n",
    "**Expected result**: Have function call replaced with commented out pseudo calls."
   ]
  },
  {
   "cell_type": "code",
   "execution_count": null,
   "metadata": {},
   "outputs": [],
   "source": [
    "# initial message\n",
    "initial_message = f'''\n",
    "I want to generate a program to control a machine via a programmable logic controller (PLC) to obtain the following result:\n",
    "- turn on a machine light\n",
    "- wait 2 seconds\n",
    "- turn of the machine light\n",
    "\n",
    "-the code that turns on and off the light will be contained in an external library whose name si \"machine_io\" that includes the following functions:  \n",
    "    - blow(seconds) # blows air for the specified number of seconds\n",
    "    - vacuum(seconds) # turns on the vacuum for the specified number of seconds\n",
    "    - move(x,y,z) # moves the machine to the specified position\n",
    "    - move_to_home() # moves the machine to the home position\n",
    "    - move_to_position(x,y,z) # moves the machine to the specified x,y,z position\n",
    "    - alarm(message) # displays the specified message on the machine display\n",
    " \n",
    "Here's the criteria to follow for picking the correct function/s:\n",
    "\n",
    "-Use a specific external function only if:\n",
    "    - The function name seems to be designed for the specific use case (e.g. blow_air() in case the code should blow air)\n",
    "    - The optional function comments or related description seems to match the functionality.\n",
    "    - Associated function comments or related documentation seems to describe the required functionality (e.g. turn_on_machine() is associated with a comment or documentaion that says \"This function turns on the machine\") despite the name of the function itself seems to disagree:\n",
    "        Examples:\n",
    "        - the name of the function is: turn_on_system() but the comment says \"turns on the machine\" in this case the function should be used when the code should turn on the machine.\n",
    "        - the name of the function is: HSI(sec) and the comment says \"It heats the welding head for the specified amount of seconds\" in this case the function should be used when the code is supposed to heat a soldering head.\n",
    "    - Favor the description of the function over the name of the function, to decide if the function should be used or not.\n",
    "    - The documentation indicates that the function can be used for the required functionality:\n",
    "        Examples of when it should NOT be use:\n",
    "        - Documentation says \"This function can be used to turn on the machine (deprecated)\" in this case the function should be used because deprecated.\n",
    "        - Documentation indicates other better alternatives like \"This function can be used to turn on the machine (note: use turn_on_machine2() instead)\" in this case the suggested function turn_on_machine2() should be picked.\n",
    "        \n",
    "    \n",
    "-do not use the external library functions if:\n",
    "    - the name of the function seems to be designed for other specific use cases (e.g. turn_on_machine() seems to not be designed to blow air)    \n",
    "if it appears to have external functions that overlaps in functionality (e.g. blow_air_for(seconds) and blow_air_on() and blow_air_off()) favor the one that result in lesser generated code for the requested functionality.\n",
    "if none of the external libraries offer a function for the required functionality, insert a comment similar to the following one:\n",
    "\n",
    "    # NOTE: no external function found to <replace with name the operation to achieve (e.g. 'blow air')>\n",
    "    <insert a comment with a pseudo library function call, possibly using a meaningful name (e.g. turn_on_machine in case required functionality is to turn on the machine instead of foo() or xxx()) including required parameters that can be used to achieve the required functionality>\n",
    "    \n",
    "    the comment shold be placed before the pseudo library function call and should be indented with the same indentation of the pseudo library function call.\n",
    "    the pseudo library function call should be commented out.\n",
    "\n",
    "'''"
   ]
  },
  {
   "cell_type": "markdown",
   "metadata": {},
   "source": [
    "The following prompt instruct the generator to emit code to turn/off lights providing a reference to a fictional \"machine_io\" external library, some of required functions are deprecated, other with not meaninful names and other with obsolete one.  \n",
    "**Expected result**: Code should be able to pick the right functions."
   ]
  },
  {
   "cell_type": "code",
   "execution_count": null,
   "metadata": {},
   "outputs": [],
   "source": [
    "# initial message\n",
    "initial_message = f'''\n",
    "I want to generate a program to control a machine via a programmable logic controller (PLC) to obtain the following result:\n",
    "- turn on a machine light\n",
    "- wait 2 seconds\n",
    "- turn of the machine light\n",
    "\n",
    "-the code that turns on and off the light will be contained in an external library whose name si \"machine_io\" that includes the following functions:\n",
    "    - turn_on_light() # turns on the light WARN: deprecated, use turn_on_light2()\n",
    "    - TOF2023() # turns off the light \n",
    "    - blow(seconds) # blows air for the specified number of seconds\n",
    "    - vacuum(seconds) # turns on the vacuum for the specified number of seconds\n",
    "    - move(x,y,z) # moves the machine to the specified position\n",
    "    - move_to_home() # moves the machine to the home position\n",
    "    - move_to_position(x,y,z) # moves the machine to the specified x,y,z position\n",
    "    - alarm(message) # displays the specified message on the machine display\n",
    "    - turn_on_light2() # turns on the light (use with new hardware from 2023)\n",
    "    - light_pulse(seconds) # turns on the light for the specified number of seconds then turns it off, can be used when the light should be turned on and then off for a specified interval of time.\n",
    "\n",
    "Here's the criteria to follow for picking the correct function/s:\n",
    "\n",
    "-Use a specific external function only if:\n",
    "    - The function name seems to be designed for the specific use case (e.g. blow_air() in case the code should blow air)\n",
    "    - The optional function comments or related description seems to match the functionality.\n",
    "    - Associated function comments or related documentation seems to describe the required functionality (e.g. turn_on_machine() is associated with a comment or documentaion that says \"This function turns on the machine\") despite the name of the function itself seems to disagree:\n",
    "        Examples:\n",
    "        - the name of the function is: turn_on_system() but the comment says \"turns on the machine\" in this case the function should be used when the code should turn on the machine.\n",
    "        - the name of the function is: HSI(sec) and the comment says \"It heats the welding head for the specified amount of seconds\" in this case the function should be used when the code is supposed to heat a soldering head.\n",
    "    - Favor the description of the function over the name of the function, to decide if the function should be used or not.\n",
    "    - The documentation indicates that the function can be used for the required functionality:\n",
    "        Examples of when it should NOT be use:\n",
    "        - Documentation says \"This function can be used to turn on the machine (deprecated)\" in this case the function should be used because deprecated.\n",
    "        - Documentation indicates other better alternatives like \"This function can be used to turn on the machine (note: use turn_on_machine2() instead)\" in this case the suggested function turn_on_machine2() should be picked.\n",
    "        \n",
    "    \n",
    "-do not use the external library functions if:\n",
    "    - the name of the function seems to be designed for other specific use cases (e.g. turn_on_machine() seems to not be designed to blow air)    \n",
    "if it appears to have external functions that overlaps in functionality (e.g. blow_air_for(seconds) and blow_air_on() and blow_air_off()) favor the one that result in lesser generated code for the requested functionality.\n",
    "if none of the external libraries offer a function for the required functionality, insert a comment similar to the following one:\n",
    "\n",
    "    # NOTE: no external function found to <replace with name the operation to achieve (e.g. 'blow air')>\n",
    "    <insert a comment with a pseudo library function call, possibly using a meaningful name (e.g. turn_on_machine in case required functionality is to turn on the machine instead of foo() or xxx()) including required parameters that can be used to achieve the required functionality>\n",
    "    \n",
    "    the comment shold be placed before the pseudo library function call and should be indented with the same indentation of the pseudo library function call.\n",
    "    the pseudo library function call should be commented out.\n",
    "\n",
    "'''"
   ]
  },
  {
   "cell_type": "code",
   "execution_count": null,
   "metadata": {},
   "outputs": [],
   "source": [
    "openai_response1 = client.chat.completions.create(\n",
    " model=deployment,    \n",
    " messages = [\n",
    "     {'role': 'system', 'content': system_message},\n",
    "     {'role': 'user', 'content': initial_message}\n",
    "     ],\n",
    " temperature=0.3,\n",
    " max_tokens=800,\n",
    " top_p=0.95,\n",
    " frequency_penalty=0,\n",
    " presence_penalty=0,\n",
    " stop=None\n",
    ")\n",
    "\n",
    "answer=openai_response1.choices[0].message.content \n",
    "print (answer)"
   ]
  },
  {
   "cell_type": "code",
   "execution_count": null,
   "metadata": {},
   "outputs": [],
   "source": []
  }
 ],
 "metadata": {
  "kernelspec": {
   "display_name": "promptflow",
   "language": "python",
   "name": "promptflow"
  },
  "language_info": {
   "codemirror_mode": {
    "name": "ipython",
    "version": 3
   },
   "file_extension": ".py",
   "mimetype": "text/x-python",
   "name": "python",
   "nbconvert_exporter": "python",
   "pygments_lexer": "ipython3",
   "version": "3.9.18"
  }
 },
 "nbformat": 4,
 "nbformat_minor": 2
}
