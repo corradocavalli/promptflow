{
 "cells": [
  {
   "cell_type": "code",
   "execution_count": 1,
   "metadata": {},
   "outputs": [],
   "source": [
    "# Imports\n",
    "import os\n",
    "import json\n",
    "from openai import AzureOpenAI\n",
    "from azure.search.documents import SearchClient\n",
    "from azure.search.documents.models import VectorizedQuery, QueryType, QueryCaptionType, QueryAnswerType\n",
    "from azure.core.credentials import AzureKeyCredential\n",
    "from dotenv import load_dotenv\n",
    "\n",
    "# Environment setup\n",
    "load_dotenv()\n",
    "deployment=os.environ['AZURE_OPENAI_DEPLOYMENT']\n",
    "language=\"python\"\n",
    "\n",
    "#Initialize AzureOpenAI client\n",
    "client = AzureOpenAI(\n",
    "  api_key=os.environ['AZURE_OPENAI_KEY'],  \n",
    "  api_version = \"2023-12-01-preview\"\n",
    "  )\n",
    "\n",
    "messages=[]"
   ]
  },
  {
   "cell_type": "code",
   "execution_count": 2,
   "metadata": {},
   "outputs": [
    {
     "ename": "HttpResponseError",
     "evalue": "(InvalidRequestParameter) Unknown semantic configuration 'default'.\r\nParameter name: semanticConfiguration\nCode: InvalidRequestParameter\nMessage: Unknown semantic configuration 'default'.\r\nParameter name: semanticConfiguration\nException Details:\t(UnknownSemanticConfiguration) Unknown semantic configuration 'default'.\n\tCode: UnknownSemanticConfiguration\n\tMessage: Unknown semantic configuration 'default'.",
     "output_type": "error",
     "traceback": [
      "\u001b[0;31m---------------------------------------------------------------------------\u001b[0m",
      "\u001b[0;31mHttpResponseError\u001b[0m                         Traceback (most recent call last)",
      "Cell \u001b[0;32mIn[2], line 30\u001b[0m\n\u001b[1;32m     27\u001b[0m     context \u001b[38;5;241m=\u001b[39m [doc[\u001b[38;5;124m\"\u001b[39m\u001b[38;5;124mcontent\u001b[39m\u001b[38;5;124m\"\u001b[39m] \u001b[38;5;28;01mfor\u001b[39;00m doc \u001b[38;5;129;01min\u001b[39;00m results]\n\u001b[1;32m     28\u001b[0m     \u001b[38;5;28;01mreturn\u001b[39;00m context\n\u001b[0;32m---> 30\u001b[0m result\u001b[38;5;241m=\u001b[39m \u001b[43mget_from_RAG\u001b[49m\u001b[43m(\u001b[49m\u001b[38;5;124;43m\"\u001b[39;49m\u001b[38;5;124;43mSE-01\u001b[39;49m\u001b[38;5;124;43m\"\u001b[39;49m\u001b[43m)\u001b[49m\n\u001b[1;32m     31\u001b[0m \u001b[38;5;28mprint\u001b[39m(result)\n",
      "Cell \u001b[0;32mIn[2], line 27\u001b[0m, in \u001b[0;36mget_from_RAG\u001b[0;34m(question)\u001b[0m\n\u001b[1;32m     11\u001b[0m search_client \u001b[38;5;241m=\u001b[39m SearchClient(\n\u001b[1;32m     12\u001b[0m     endpoint\u001b[38;5;241m=\u001b[39mos\u001b[38;5;241m.\u001b[39menviron[\u001b[38;5;124m\"\u001b[39m\u001b[38;5;124mAZURE_SEARCH_ENDPOINT\u001b[39m\u001b[38;5;124m\"\u001b[39m],\n\u001b[1;32m     13\u001b[0m     index_name\u001b[38;5;241m=\u001b[39mos\u001b[38;5;241m.\u001b[39menviron[\u001b[38;5;124m'\u001b[39m\u001b[38;5;124mAZURE_SEARCH_INDEX_NAME\u001b[39m\u001b[38;5;124m'\u001b[39m],\n\u001b[1;32m     14\u001b[0m     credential\u001b[38;5;241m=\u001b[39mAzureKeyCredential(os\u001b[38;5;241m.\u001b[39menviron[\u001b[38;5;124m'\u001b[39m\u001b[38;5;124mAZURE_SEARCH_KEY\u001b[39m\u001b[38;5;124m'\u001b[39m]),\n\u001b[1;32m     15\u001b[0m )\n\u001b[1;32m     17\u001b[0m results \u001b[38;5;241m=\u001b[39m search_client\u001b[38;5;241m.\u001b[39msearch(  \n\u001b[1;32m     18\u001b[0m     search_text\u001b[38;5;241m=\u001b[39mquestion,  \n\u001b[1;32m     19\u001b[0m     vector_queries\u001b[38;5;241m=\u001b[39m[vector_query],\n\u001b[0;32m   (...)\u001b[0m\n\u001b[1;32m     24\u001b[0m     top\u001b[38;5;241m=\u001b[39m\u001b[38;5;241m1\u001b[39m\n\u001b[1;32m     25\u001b[0m )\n\u001b[0;32m---> 27\u001b[0m context \u001b[38;5;241m=\u001b[39m [doc[\u001b[38;5;124m\"\u001b[39m\u001b[38;5;124mcontent\u001b[39m\u001b[38;5;124m\"\u001b[39m] \u001b[38;5;28;01mfor\u001b[39;00m doc \u001b[38;5;129;01min\u001b[39;00m results]\n\u001b[1;32m     28\u001b[0m \u001b[38;5;28;01mreturn\u001b[39;00m context\n",
      "Cell \u001b[0;32mIn[2], line 27\u001b[0m, in \u001b[0;36m<listcomp>\u001b[0;34m(.0)\u001b[0m\n\u001b[1;32m     11\u001b[0m search_client \u001b[38;5;241m=\u001b[39m SearchClient(\n\u001b[1;32m     12\u001b[0m     endpoint\u001b[38;5;241m=\u001b[39mos\u001b[38;5;241m.\u001b[39menviron[\u001b[38;5;124m\"\u001b[39m\u001b[38;5;124mAZURE_SEARCH_ENDPOINT\u001b[39m\u001b[38;5;124m\"\u001b[39m],\n\u001b[1;32m     13\u001b[0m     index_name\u001b[38;5;241m=\u001b[39mos\u001b[38;5;241m.\u001b[39menviron[\u001b[38;5;124m'\u001b[39m\u001b[38;5;124mAZURE_SEARCH_INDEX_NAME\u001b[39m\u001b[38;5;124m'\u001b[39m],\n\u001b[1;32m     14\u001b[0m     credential\u001b[38;5;241m=\u001b[39mAzureKeyCredential(os\u001b[38;5;241m.\u001b[39menviron[\u001b[38;5;124m'\u001b[39m\u001b[38;5;124mAZURE_SEARCH_KEY\u001b[39m\u001b[38;5;124m'\u001b[39m]),\n\u001b[1;32m     15\u001b[0m )\n\u001b[1;32m     17\u001b[0m results \u001b[38;5;241m=\u001b[39m search_client\u001b[38;5;241m.\u001b[39msearch(  \n\u001b[1;32m     18\u001b[0m     search_text\u001b[38;5;241m=\u001b[39mquestion,  \n\u001b[1;32m     19\u001b[0m     vector_queries\u001b[38;5;241m=\u001b[39m[vector_query],\n\u001b[0;32m   (...)\u001b[0m\n\u001b[1;32m     24\u001b[0m     top\u001b[38;5;241m=\u001b[39m\u001b[38;5;241m1\u001b[39m\n\u001b[1;32m     25\u001b[0m )\n\u001b[0;32m---> 27\u001b[0m context \u001b[38;5;241m=\u001b[39m [doc[\u001b[38;5;124m\"\u001b[39m\u001b[38;5;124mcontent\u001b[39m\u001b[38;5;124m\"\u001b[39m] \u001b[38;5;28;01mfor\u001b[39;00m doc \u001b[38;5;129;01min\u001b[39;00m results]\n\u001b[1;32m     28\u001b[0m \u001b[38;5;28;01mreturn\u001b[39;00m context\n",
      "File \u001b[0;32m/usr/local/lib/python3.9/site-packages/azure/search/documents/_paging.py:54\u001b[0m, in \u001b[0;36mSearchItemPaged.__next__\u001b[0;34m(self)\u001b[0m\n\u001b[1;32m     52\u001b[0m     first_iterator \u001b[38;5;241m=\u001b[39m \u001b[38;5;28mself\u001b[39m\u001b[38;5;241m.\u001b[39m_first_iterator_instance()\n\u001b[1;32m     53\u001b[0m     \u001b[38;5;28mself\u001b[39m\u001b[38;5;241m.\u001b[39m_page_iterator \u001b[38;5;241m=\u001b[39m itertools\u001b[38;5;241m.\u001b[39mchain\u001b[38;5;241m.\u001b[39mfrom_iterable(first_iterator)\n\u001b[0;32m---> 54\u001b[0m \u001b[38;5;28;01mreturn\u001b[39;00m \u001b[38;5;28;43mnext\u001b[39;49m\u001b[43m(\u001b[49m\u001b[38;5;28;43mself\u001b[39;49m\u001b[38;5;241;43m.\u001b[39;49m\u001b[43m_page_iterator\u001b[49m\u001b[43m)\u001b[49m\n",
      "File \u001b[0;32m/usr/local/lib/python3.9/site-packages/azure/core/paging.py:75\u001b[0m, in \u001b[0;36mPageIterator.__next__\u001b[0;34m(self)\u001b[0m\n\u001b[1;32m     73\u001b[0m     \u001b[38;5;28;01mraise\u001b[39;00m \u001b[38;5;167;01mStopIteration\u001b[39;00m(\u001b[38;5;124m\"\u001b[39m\u001b[38;5;124mEnd of paging\u001b[39m\u001b[38;5;124m\"\u001b[39m)\n\u001b[1;32m     74\u001b[0m \u001b[38;5;28;01mtry\u001b[39;00m:\n\u001b[0;32m---> 75\u001b[0m     \u001b[38;5;28mself\u001b[39m\u001b[38;5;241m.\u001b[39m_response \u001b[38;5;241m=\u001b[39m \u001b[38;5;28;43mself\u001b[39;49m\u001b[38;5;241;43m.\u001b[39;49m\u001b[43m_get_next\u001b[49m\u001b[43m(\u001b[49m\u001b[38;5;28;43mself\u001b[39;49m\u001b[38;5;241;43m.\u001b[39;49m\u001b[43mcontinuation_token\u001b[49m\u001b[43m)\u001b[49m\n\u001b[1;32m     76\u001b[0m \u001b[38;5;28;01mexcept\u001b[39;00m AzureError \u001b[38;5;28;01mas\u001b[39;00m error:\n\u001b[1;32m     77\u001b[0m     \u001b[38;5;28;01mif\u001b[39;00m \u001b[38;5;129;01mnot\u001b[39;00m error\u001b[38;5;241m.\u001b[39mcontinuation_token:\n",
      "File \u001b[0;32m/usr/local/lib/python3.9/site-packages/azure/search/documents/_paging.py:124\u001b[0m, in \u001b[0;36mSearchPageIterator._get_next_cb\u001b[0;34m(self, continuation_token)\u001b[0m\n\u001b[1;32m    122\u001b[0m \u001b[38;5;28;01mdef\u001b[39;00m \u001b[38;5;21m_get_next_cb\u001b[39m(\u001b[38;5;28mself\u001b[39m, continuation_token):\n\u001b[1;32m    123\u001b[0m     \u001b[38;5;28;01mif\u001b[39;00m continuation_token \u001b[38;5;129;01mis\u001b[39;00m \u001b[38;5;28;01mNone\u001b[39;00m:\n\u001b[0;32m--> 124\u001b[0m         \u001b[38;5;28;01mreturn\u001b[39;00m \u001b[38;5;28;43mself\u001b[39;49m\u001b[38;5;241;43m.\u001b[39;49m\u001b[43m_client\u001b[49m\u001b[38;5;241;43m.\u001b[39;49m\u001b[43mdocuments\u001b[49m\u001b[38;5;241;43m.\u001b[39;49m\u001b[43msearch_post\u001b[49m\u001b[43m(\u001b[49m\u001b[43msearch_request\u001b[49m\u001b[38;5;241;43m=\u001b[39;49m\u001b[38;5;28;43mself\u001b[39;49m\u001b[38;5;241;43m.\u001b[39;49m\u001b[43m_initial_query\u001b[49m\u001b[38;5;241;43m.\u001b[39;49m\u001b[43mrequest\u001b[49m\u001b[43m,\u001b[49m\u001b[43m \u001b[49m\u001b[38;5;241;43m*\u001b[39;49m\u001b[38;5;241;43m*\u001b[39;49m\u001b[38;5;28;43mself\u001b[39;49m\u001b[38;5;241;43m.\u001b[39;49m\u001b[43m_kwargs\u001b[49m\u001b[43m)\u001b[49m\n\u001b[1;32m    126\u001b[0m     _next_link, next_page_request \u001b[38;5;241m=\u001b[39m unpack_continuation_token(continuation_token)\n\u001b[1;32m    128\u001b[0m     \u001b[38;5;28;01mreturn\u001b[39;00m \u001b[38;5;28mself\u001b[39m\u001b[38;5;241m.\u001b[39m_client\u001b[38;5;241m.\u001b[39mdocuments\u001b[38;5;241m.\u001b[39msearch_post(search_request\u001b[38;5;241m=\u001b[39mnext_page_request, \u001b[38;5;241m*\u001b[39m\u001b[38;5;241m*\u001b[39m\u001b[38;5;28mself\u001b[39m\u001b[38;5;241m.\u001b[39m_kwargs)\n",
      "File \u001b[0;32m/usr/local/lib/python3.9/site-packages/azure/core/tracing/decorator.py:78\u001b[0m, in \u001b[0;36mdistributed_trace.<locals>.decorator.<locals>.wrapper_use_tracer\u001b[0;34m(*args, **kwargs)\u001b[0m\n\u001b[1;32m     76\u001b[0m span_impl_type \u001b[38;5;241m=\u001b[39m settings\u001b[38;5;241m.\u001b[39mtracing_implementation()\n\u001b[1;32m     77\u001b[0m \u001b[38;5;28;01mif\u001b[39;00m span_impl_type \u001b[38;5;129;01mis\u001b[39;00m \u001b[38;5;28;01mNone\u001b[39;00m:\n\u001b[0;32m---> 78\u001b[0m     \u001b[38;5;28;01mreturn\u001b[39;00m \u001b[43mfunc\u001b[49m\u001b[43m(\u001b[49m\u001b[38;5;241;43m*\u001b[39;49m\u001b[43margs\u001b[49m\u001b[43m,\u001b[49m\u001b[43m \u001b[49m\u001b[38;5;241;43m*\u001b[39;49m\u001b[38;5;241;43m*\u001b[39;49m\u001b[43mkwargs\u001b[49m\u001b[43m)\u001b[49m\n\u001b[1;32m     80\u001b[0m \u001b[38;5;66;03m# Merge span is parameter is set, but only if no explicit parent are passed\u001b[39;00m\n\u001b[1;32m     81\u001b[0m \u001b[38;5;28;01mif\u001b[39;00m merge_span \u001b[38;5;129;01mand\u001b[39;00m \u001b[38;5;129;01mnot\u001b[39;00m passed_in_parent:\n",
      "File \u001b[0;32m/usr/local/lib/python3.9/site-packages/azure/search/documents/_generated/operations/_documents_operations.py:756\u001b[0m, in \u001b[0;36mDocumentsOperations.search_post\u001b[0;34m(self, search_request, request_options, **kwargs)\u001b[0m\n\u001b[1;32m    754\u001b[0m     map_error(status_code\u001b[38;5;241m=\u001b[39mresponse\u001b[38;5;241m.\u001b[39mstatus_code, response\u001b[38;5;241m=\u001b[39mresponse, error_map\u001b[38;5;241m=\u001b[39merror_map)\n\u001b[1;32m    755\u001b[0m     error \u001b[38;5;241m=\u001b[39m \u001b[38;5;28mself\u001b[39m\u001b[38;5;241m.\u001b[39m_deserialize\u001b[38;5;241m.\u001b[39mfailsafe_deserialize(_models\u001b[38;5;241m.\u001b[39mSearchError, pipeline_response)\n\u001b[0;32m--> 756\u001b[0m     \u001b[38;5;28;01mraise\u001b[39;00m HttpResponseError(response\u001b[38;5;241m=\u001b[39mresponse, model\u001b[38;5;241m=\u001b[39merror)\n\u001b[1;32m    758\u001b[0m deserialized \u001b[38;5;241m=\u001b[39m \u001b[38;5;28mself\u001b[39m\u001b[38;5;241m.\u001b[39m_deserialize(\u001b[38;5;124m\"\u001b[39m\u001b[38;5;124mSearchDocumentsResult\u001b[39m\u001b[38;5;124m\"\u001b[39m, pipeline_response)\n\u001b[1;32m    760\u001b[0m \u001b[38;5;28;01mif\u001b[39;00m \u001b[38;5;28mcls\u001b[39m:\n",
      "\u001b[0;31mHttpResponseError\u001b[0m: (InvalidRequestParameter) Unknown semantic configuration 'default'.\r\nParameter name: semanticConfiguration\nCode: InvalidRequestParameter\nMessage: Unknown semantic configuration 'default'.\r\nParameter name: semanticConfiguration\nException Details:\t(UnknownSemanticConfiguration) Unknown semantic configuration 'default'.\n\tCode: UnknownSemanticConfiguration\n\tMessage: Unknown semantic configuration 'default'."
     ]
    }
   ],
   "source": [
    "# Gets the relevant documents from Azure Cognitive Search.\n",
    "def get_from_RAG(question: str) -> list[str]:    \n",
    "    response=client.embeddings.create(\n",
    "            model=os.getenv(\"AZURE_OPENAI_EMBEDDING_DEPLOYMENT\"), \n",
    "            input=question)   \n",
    "    \n",
    "    vector_query = VectorizedQuery(vector=response.data[0].embedding, \n",
    "                                    k_nearest_neighbors=3, \n",
    "                                    fields=\"embedding\")\n",
    "\n",
    "    search_client = SearchClient(\n",
    "        endpoint=os.environ[\"AZURE_SEARCH_ENDPOINT\"],\n",
    "        index_name=os.environ['AZURE_SEARCH_INDEX_NAME'],\n",
    "        credential=AzureKeyCredential(os.environ['AZURE_SEARCH_KEY']),\n",
    "    )\n",
    "\n",
    "    results = search_client.search(  \n",
    "        search_text=question,  \n",
    "        vector_queries=[vector_query],\n",
    "        query_type=QueryType.SEMANTIC, \n",
    "        semantic_configuration_name='default', \n",
    "        query_caption=QueryCaptionType.EXTRACTIVE, \n",
    "        query_answer=QueryAnswerType.EXTRACTIVE,\n",
    "        top=1\n",
    "    )\n",
    "\n",
    "    context = [doc[\"content\"] for doc in results]\n",
    "    return context\n",
    "\n",
    "result= get_from_RAG(\"SE-01\")\n",
    "print(result)"
   ]
  },
  {
   "cell_type": "code",
   "execution_count": null,
   "metadata": {},
   "outputs": [],
   "source": [
    "# system message\n",
    "system_message = f'''\n",
    "You are a an expert in generating code using exclusively the {language} language.\n",
    "Based on the user request you will generate the code for the user following the classic {language} conventions and commenting the code so that it will be easily readable favoring semplicity over complexity.\n",
    "The generated code should be syntactically correct and should be able to run without errors and the it should include the following features:\n",
    "- All the required imports should be included and listed at the top of the file.\n",
    "- The code should be executed via a main function.\n",
    "- Do not generate additional ouput comments other than the inline with the code.\n",
    "- Do not generate additional code other than the one requested by the user (example code to initialize the machine, etc.).\n",
    "\n",
    "In order to generate compliant code you might need to use external libraries, use function provided in the prompt to request detailed information about them.\n",
    "\n",
    "'''"
   ]
  },
  {
   "cell_type": "code",
   "execution_count": null,
   "metadata": {},
   "outputs": [],
   "source": [
    "function_extraction_rules = f'''\n",
    "The following rules should be used to identify the functions to use from the external libraries:\n",
    "-Use a specific external function only if:\n",
    "    - The function name seems to be designed for the specific use case (e.g. blow_air() in case the code should blow air)\n",
    "    - The optional function comments or related description seems to match the functionality.\n",
    "    - Associated function comments or related documentation seems to describe the required functionality (e.g. turn_on_machine() is associated with a comment or documentaion that says \"This function turns on the machine\") despite the name of the function itself seems to disagree:\n",
    "        Examples:\n",
    "        - the name of the function is: turn_on_system() but the comment says \"turns on the machine\" in this case the function should be used when the code should turn on the machine.\n",
    "        - the name of the function is: HSI(sec) and the comment says \"It heats the welding head for the specified amount of seconds\" in this case the function should be used when the code is supposed to heat a soldering head.\n",
    "    - Favor the description of the function over the name of the function, to decide if the function should be used or not.\n",
    "    - The documentation indicates that the function can be used for the required functionality:\n",
    "        Examples of when it should NOT be use:\n",
    "        - Documentation says \"This function can be used to turn on the machine (deprecated)\" in this case the function should be used because deprecated.\n",
    "        - Documentation indicates other better alternatives like \"This function can be used to turn on the machine (note: use turn_on_machine2() instead)\" in this case the suggested function turn_on_machine2() should be picked.\n",
    "\n",
    "-Do not use the external library functions if:\n",
    "    - the name of the function seems to be designed for other specific use cases (e.g. turn_on_machine() seems to not be designed to blow air)    \n",
    "if it appears to have external functions that overlaps in functionality (e.g. blow_air_for(seconds) and blow_air_on() and blow_air_off()) favor the one that result in lesser generated code for the requested functionality.\n",
    "if none of the external libraries offer a function for the required functionality, insert a comment similar to the following one:\n",
    "\n",
    "    # NOTE: no external function found to <replace with name the operation to achieve (e.g. 'blow air')>\n",
    "    <insert a comment with a pseudo library function call, possibly using a meaningful name (e.g. turn_on_machine in case required functionality is to turn on the machine instead of foo() or xxx()) including required parameters that can be used to achieve the required functionality>\n",
    "    \n",
    "    the comment shold be placed before the pseudo library function call and should be indented with the same indentation of the pseudo library function call.\n",
    "    the pseudo library function call should be commented out.\n",
    "\n",
    "'''"
   ]
  },
  {
   "cell_type": "markdown",
   "metadata": {},
   "source": [
    "Theses are the user commands, edit and run them to see the different output considering that output also depends on code implemented into function (to be replaced by RAG)"
   ]
  },
  {
   "cell_type": "code",
   "execution_count": null,
   "metadata": {},
   "outputs": [],
   "source": [
    "\n",
    "# Prompt #1 cut\n",
    "\n",
    "user_command = f'''\n",
    "Generate a program to control a machine model SE-01 via a programmable logic controller (PLC) to cut a material, in a way that reminds a circle following a zigzag pattern from the point (10,10) to the point (100,100).\n",
    "'''\n",
    "\n",
    "# Prompt #2 soldering\n",
    "# user_command = f'''\n",
    "# Generate a program to control a machine model SE-01 to solder a material vertically following a zigzag pattern from the point (10,10) to the point (100,100).\n",
    "# '''\n",
    "\n",
    "# Prompt #3 cutting and soldering\n",
    "# user_command = f'''\n",
    "# Generate a program to control a machine model SE-01 via a programmable logic controller (PLC) to execute the following operations:\n",
    "\n",
    "# 1. cut the material, vertically from the point (10,10) to the point (100,100).\n",
    "# 2. create a round cut where point (123,456) is the center and 78 is the radius of the circle.\n",
    "# 3. solder the material, horizontally from the point (65,18) to the point (178,481).\n",
    "# 4. create a circular welding of the material from center (742,95) with a radius of 12 and border follows a zigzag pattern.\n",
    "\n",
    "#'''"
   ]
  },
  {
   "cell_type": "code",
   "execution_count": null,
   "metadata": {},
   "outputs": [],
   "source": [
    "from azure.core.credentials import AzureKeyCredential\n",
    "from azure.search.documents import SearchClient\n",
    "\n",
    "search_service_name = os.environ['AZURE_SEARCH_SERVICE_NAME']\n",
    "index_name = os.environ['AZURE_SEARCH_INDEX_NAME']\n",
    "search_creds = os.environ['AZURE_SEARCH_KEY']\n",
    "category=os.environ['AZURE_SEARCH_CATEGORY']\n",
    "\n",
    "endpoint = f\"https://{search_service_name}.search.windows.net/\"\n",
    "azure_credential =  AzureKeyCredential(search_creds)\n",
    "\n",
    "search_client = SearchClient(endpoint=endpoint, index_name=index_name, credential=azure_credential)\n",
    "\n",
    "\n",
    "KB_FIELDS_CONTENT = os.environ.get(\"KB_FIELDS_CONTENT\") or \"content\"\n",
    "KB_FIELDS_CATEGORY = os.environ.get(\"KB_FIELDS_CATEGORY\") or category\n",
    "KB_FIELDS_SOURCEPAGE = os.environ.get(\"KB_FIELDS_SOURCEPAGE\") or \"sourcepage\"\n",
    "\n",
    "exclude_category = None"
   ]
  },
  {
   "cell_type": "code",
   "execution_count": null,
   "metadata": {},
   "outputs": [],
   "source": [
    "# Asks the model to generate the code\n",
    "def generate_code():\n",
    "    openai_response = client.chat.completions.create(\n",
    "        model=deployment,    \n",
    "        messages = messages,\n",
    "        temperature=0.3,\n",
    "        max_tokens=800,\n",
    "        top_p=0.95,\n",
    "        frequency_penalty=0,\n",
    "        presence_penalty=0,\n",
    "        stop=None,\n",
    "        functions=functions,\n",
    "        function_call=\"auto\"\n",
    "    )\n",
    "    return openai_response.choices[0].message"
   ]
  },
  {
   "cell_type": "code",
   "execution_count": null,
   "metadata": {},
   "outputs": [],
   "source": [
    "messages.append({'role': 'system', 'content': system_message})\n",
    "messages.append({'role': 'user', 'content': function_extraction_rules})\n",
    "messages.append({'role': 'user', 'content': user_command})       \n",
    "\n",
    "isCodeGenerated=False\n",
    "\n",
    "while(isCodeGenerated==False): \n",
    "    print(\"Generating code...\")    \n",
    "    response = generate_code()    \n",
    "    if (response.function_call):\n",
    "        load_info(response)\n",
    "    else:\n",
    "        isCodeGenerated=True\n",
    "        print(\"Code generation completed!\")        \n",
    "        print(response.content)"
   ]
  },
  {
   "cell_type": "code",
   "execution_count": null,
   "metadata": {},
   "outputs": [],
   "source": []
  }
 ],
 "metadata": {
  "kernelspec": {
   "display_name": "promptflow",
   "language": "python",
   "name": "promptflow"
  },
  "language_info": {
   "codemirror_mode": {
    "name": "ipython",
    "version": 3
   },
   "file_extension": ".py",
   "mimetype": "text/x-python",
   "name": "python",
   "nbconvert_exporter": "python",
   "pygments_lexer": "ipython3",
   "version": "3.9.18"
  }
 },
 "nbformat": 4,
 "nbformat_minor": 2
}
