{
 "cells": [
  {
   "cell_type": "code",
   "execution_count": 6,
   "metadata": {},
   "outputs": [],
   "source": [
    "# Imports\n",
    "import os\n",
    "import json\n",
    "from openai import AzureOpenAI\n",
    "from dotenv import load_dotenv\n",
    "\n",
    "# Environment setup\n",
    "load_dotenv()\n",
    "\n",
    "deployment=os.environ['AZURE_OPENAI_DEPLOYMENT']\n",
    "key = os.getenv(\"AZURE_SEARCH_KEY\") \n",
    "verbose = False #Set to true to see more output information\n",
    "\n",
    "#Initialize AzureOpenAI client\n",
    "client = AzureOpenAI(\n",
    "  api_key=os.environ['AZURE_OPENAI_KEY'],  \n",
    "  api_version = \"2023-12-01-preview\"\n",
    "  )\n",
    "\n",
    "messages=[]"
   ]
  },
  {
   "cell_type": "code",
   "execution_count": 7,
   "metadata": {},
   "outputs": [],
   "source": [
    "# system message\n",
    "system_message = f'''\n",
    "You are an assistant with knowledge of the following topics:\n",
    "1. IEC61131-3 languages\n",
    "2. Structured Text\n",
    "3. Function Block Diagram\n",
    "4. IEC61131-3 coding standards\n",
    "5. IEC61131-3 best practices\n",
    "6. IEC61131-3 coding guidelines\n",
    "7. IEC61131-3 programming\n",
    "8. IEC61131-3 programming languages\n",
    "9. Schneider Electric EcoStruxure Control Expert\n",
    "10. Schneider Electric EcoStruxure Machine Expert\n",
    "11. Schneider Electric EcoStruxure Machine Expert Libraries and Templates\n",
    "\n",
    "Your job is to generate small examples of code using exclusiveliy IEC61131-3 Structured Text base on user input.\n",
    "You can assume that all the code will be executed on a Schneider Electric EcoStruxure Control Expert or Schneider Electric EcoStruxure Machine Expert PLC and that all libraries are available.\n",
    "\n",
    "'''"
   ]
  },
  {
   "cell_type": "code",
   "execution_count": 8,
   "metadata": {},
   "outputs": [],
   "source": [
    "user_command = f'''\n",
    "Generate a small program in IEC61131-3 that sum two input variables and return the result.\n",
    "Variable 1 is of type INT and Variable 2 is of type INT.\n",
    "Variable 1 has a value of 3 and Variable 2 has a value of 5.\n",
    "Variable 1 is named V1 and Variable 2 is named V2.\n",
    "'''"
   ]
  },
  {
   "cell_type": "code",
   "execution_count": 9,
   "metadata": {},
   "outputs": [],
   "source": [
    "user_command = f'''\n",
    "Generate a small program in IEC61131-3 that uses Scheneider Electric EmailHandling library to send an email using following parameters:\n",
    "1. To: \"receiver@se.com\"\n",
    "2. Subject: \"Test email\"\n",
    "3. Body: \"This is a test email\"\n",
    "4. From: \"sender@se.com\"\n",
    "\n",
    "'''"
   ]
  },
  {
   "cell_type": "code",
   "execution_count": null,
   "metadata": {},
   "outputs": [],
   "source": []
  },
  {
   "cell_type": "markdown",
   "metadata": {},
   "source": [
    "Theses are the user commands, edit and run them to see the different output considering that output also depends on code implemented into function (to be replaced by RAG)"
   ]
  },
  {
   "cell_type": "code",
   "execution_count": 10,
   "metadata": {},
   "outputs": [
    {
     "name": "stdout",
     "output_type": "stream",
     "text": [
      "Sure, here is a small example of a program in IEC61131-3 Structured Text that uses the Schneider Electric EmailHandling library to send an email:\n",
      "\n",
      "```iecst\n",
      "PROGRAM SendEmail\n",
      "VAR\n",
      "    EmailClient : SchneiderElectric.EmailHandling.SMTPClient;\n",
      "    EmailMessage : SchneiderElectric.EmailHandling.EmailMessage;\n",
      "    SendStatus : SchneiderElectric.EmailHandling.SendStatus;\n",
      "END_VAR\n",
      "\n",
      "EmailMessage.To := 'receiver@se.com';\n",
      "EmailMessage.Subject := 'Test email';\n",
      "EmailMessage.Body := 'This is a test email';\n",
      "EmailMessage.From := 'sender@se.com';\n",
      "\n",
      "EmailClient.Send(EmailMessage, SendStatus);\n",
      "END_PROGRAM\n",
      "```\n",
      "\n",
      "In this code, we first declare an instance of the SMTPClient and EmailMessage classes from the Schneider Electric EmailHandling library. We then set the properties of the EmailMessage instance to the desired values. Finally, we call the Send method of the SMTPClient instance to send the email, passing in the EmailMessage instance and a SendStatus instance to receive the status of the send operation.\n",
      "\n",
      "Please note that you may need to configure the SMTPClient instance with the details of your SMTP server before you can send emails. The details of how to do this will depend on your specific server and network configuration.\n"
     ]
    }
   ],
   "source": [
    "messages.append({'role': 'system', 'content': system_message})\n",
    "messages.append({'role': 'user', 'content': user_command})       \n",
    "\n",
    "openai_response = client.chat.completions.create(\n",
    "        model=deployment,    \n",
    "        messages = messages,\n",
    "        temperature=0.3,\n",
    "        max_tokens=800,\n",
    "        top_p=0.95,\n",
    "        frequency_penalty=0,\n",
    "        presence_penalty=0,\n",
    "        stop=None)\n",
    "result= openai_response.choices[0].message\n",
    "\n",
    "print (result.content)"
   ]
  }
 ],
 "metadata": {
  "kernelspec": {
   "display_name": "promptflow",
   "language": "python",
   "name": "promptflow"
  },
  "language_info": {
   "codemirror_mode": {
    "name": "ipython",
    "version": 3
   },
   "file_extension": ".py",
   "mimetype": "text/x-python",
   "name": "python",
   "nbconvert_exporter": "python",
   "pygments_lexer": "ipython3",
   "version": "3.9.18"
  }
 },
 "nbformat": 4,
 "nbformat_minor": 2
}
